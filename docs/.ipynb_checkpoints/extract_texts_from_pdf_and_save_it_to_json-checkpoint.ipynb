{
 "cells": [
  {
   "cell_type": "code",
   "execution_count": 1,
   "id": "436bf0b2",
   "metadata": {},
   "outputs": [],
   "source": [
    "import os\n",
    "import requests\n",
    "from bs4 import BeautifulSoup\n",
    "from urllib.parse import urljoin"
   ]
  },
  {
   "cell_type": "code",
   "execution_count": 2,
   "id": "739b8db0",
   "metadata": {},
   "outputs": [],
   "source": [
    "# Base URL of the site to scrape\n",
    "base_url = 'https://entscheidsuche.ch/docs/'"
   ]
  },
  {
   "cell_type": "code",
   "execution_count": 3,
   "id": "029861b2",
   "metadata": {},
   "outputs": [],
   "source": [
    "def get_links(url):\n",
    "    # Send request to the given URL\n",
    "    response = requests.get(url)\n",
    "    # Parse the page content with BeautifulSoup\n",
    "    soup = BeautifulSoup(response.text, 'html.parser')\n",
    "    # Find all 'a' tags, as they contain links\n",
    "    links = soup.find_all('a')\n",
    "    final = []\n",
    "    for link in links:\n",
    "        if 'docs' in link['href']:\n",
    "            canton = link['href'].split('/')[-2]\n",
    "            if canton != '' and canton != 'docs' and '_' in canton:\n",
    "                final.append(url+canton)\n",
    "    return final"
   ]
  },
  {
   "cell_type": "code",
   "execution_count": 4,
   "id": "16b587eb",
   "metadata": {},
   "outputs": [],
   "source": [
    "def get_pdf_links(url):\n",
    "    # Send request to the given URL\n",
    "    response = requests.get(url)\n",
    "    # Parse the page content with BeautifulSoup\n",
    "    soup = BeautifulSoup(response.text, 'html.parser')\n",
    "    # Find all 'a' tags, as they contain links\n",
    "    links = soup.find_all('a')\n",
    "    #print(links)\n",
    "    pdf_links = []\n",
    "    for link in links:\n",
    "        href = link['href']\n",
    "        if '.pdf' in href:\n",
    "            #print(href)\n",
    "            pdf_links.append(url+'/'+href.split('/')[-1])\n",
    "            break\n",
    "    return pdf_links"
   ]
  },
  {
   "cell_type": "code",
   "execution_count": 5,
   "id": "d9178c31",
   "metadata": {},
   "outputs": [],
   "source": [
    "def download_file(file_url, folder='.'):\n",
    "    # Create a folder if it doesn't exist\n",
    "    os.makedirs(folder, exist_ok=True)\n",
    "    # Path to save the file\n",
    "    file_path = os.path.join(folder, file_name)\n",
    "    # Request the file content\n",
    "    response = requests.get(file_url)\n",
    "    # Write the content to a file\n",
    "    with open(file_path, 'wb') as file:\n",
    "        file.write(response.content)\n",
    "    print(f'Downloaded {file_name}')"
   ]
  },
  {
   "cell_type": "code",
   "execution_count": 8,
   "id": "0a7e7e18",
   "metadata": {},
   "outputs": [],
   "source": [
    "def download_pdf(base_url):\n",
    "    # Get the links from the base URL\n",
    "    links = get_links(base_url)\n",
    "    for link in links:\n",
    "        pdf_links = get_pdf_links(link)\n",
    "        for i, link in enumerate(pdf_links):\n",
    "            print(link)\n",
    "            response = requests.get(link)\n",
    "            pdf = open(\"pdf\"+str(i)+\".pdf\", 'wb')\n",
    "            pdf.write(response.content)\n",
    "            pdf.close()\n",
    "            print(\"File \", i, \" downloaded\")\n",
    "            break\n",
    "        break"
   ]
  },
  {
   "cell_type": "code",
   "execution_count": 9,
   "id": "17652b1f",
   "metadata": {},
   "outputs": [
    {
     "name": "stdout",
     "output_type": "stream",
     "text": [
      "https://entscheidsuche.ch/docs/AG_GerichteAG_AK_001_AGVE-2000-17_2000-06-27.pdf\n",
      "File  0  downloaded\n"
     ]
    }
   ],
   "source": [
    "download_pdf(base_url)"
   ]
  },
  {
   "cell_type": "code",
   "execution_count": null,
   "id": "10f1ad98",
   "metadata": {},
   "outputs": [],
   "source": [
    "https://entscheidsuche.ch/docs/AG_Gerichte/AG_AK_001_AGVE-2000-17_2000-06-27.pdf"
   ]
  }
 ],
 "metadata": {
  "kernelspec": {
   "display_name": "Python 3 (ipykernel)",
   "language": "python",
   "name": "python3"
  },
  "language_info": {
   "codemirror_mode": {
    "name": "ipython",
    "version": 3
   },
   "file_extension": ".py",
   "mimetype": "text/x-python",
   "name": "python",
   "nbconvert_exporter": "python",
   "pygments_lexer": "ipython3",
   "version": "3.10.12"
  }
 },
 "nbformat": 4,
 "nbformat_minor": 5
}
